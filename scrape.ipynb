{
 "cells": [
  {
   "cell_type": "code",
   "execution_count": null,
   "metadata": {},
   "outputs": [],
   "source": [
    "import requests\n",
    "import pandas as pd\n",
    "from bs4 import BeautifulSoup\n",
    "from itertools import chain"
   ]
  },
  {
   "cell_type": "code",
   "execution_count": 2,
   "metadata": {},
   "outputs": [],
   "source": [
    "root_url = 'https://www.slroutes.com/search'"
   ]
  },
  {
   "cell_type": "code",
   "execution_count": null,
   "metadata": {},
   "outputs": [],
   "source": [
    "response = requests.get(root_url)\n",
    "response.content\n",
    "soup = BeautifulSoup(response.content, \"html.parser\")\n",
    "search_result = soup.find_all(\"ul\",{\"class\": \"pagination\"})"
   ]
  },
  {
   "cell_type": "code",
   "execution_count": null,
   "metadata": {},
   "outputs": [],
   "source": [
    "list_of_pagenumber = []\n",
    "for i in search_result[1].find_all(\"a\"):\n",
    "    try:\n",
    "        int(i.text)\n",
    "        list_of_pagenumber.append(int(i.text))\n",
    "    except :\n",
    "        0\n",
    "max_pagenumber = max(list_of_pagenumber)"
   ]
  },
  {
   "cell_type": "code",
   "execution_count": 5,
   "metadata": {},
   "outputs": [
    {
     "data": {
      "text/plain": [
       "'/en-US/search?pagenumber='"
      ]
     },
     "execution_count": 5,
     "metadata": {},
     "output_type": "execute_result"
    }
   ],
   "source": [
    "get_pagination_route = search_result[0].find_all(\"li\", {\"class\":\"active jrp-pagination-number\"})[0].find_all(\"a\")[0].get(\"href\")[:-1]\n",
    "get_pagination_route"
   ]
  },
  {
   "cell_type": "code",
   "execution_count": null,
   "metadata": {},
   "outputs": [],
   "source": [
    "link_for_pagination = [root_url[:-len(\"/search\")] + get_pagination_route +str(i) for i in range(1,max_pagenumber)]"
   ]
  },
  {
   "cell_type": "code",
   "execution_count": 12,
   "metadata": {},
   "outputs": [],
   "source": [
    "page_search_result = []\n",
    "for link in link_for_pagination:\n",
    "    response1 = requests.get(link)\n",
    "    response1.content\n",
    "    soup1 = BeautifulSoup(response1.content, \"html.parser\")\n",
    "    _ = soup1.find_all(\"a\", {\"class\":\"primary-text-color job-result-title\"})\n",
    "    page_search_result.append(_)"
   ]
  },
  {
   "cell_type": "code",
   "execution_count": null,
   "metadata": {},
   "outputs": [],
   "source": [
    "# unest a list of list\n",
    "page_search_result = list(chain.from_iterable(page_search_result))"
   ]
  },
  {
   "cell_type": "code",
   "execution_count": 17,
   "metadata": {},
   "outputs": [
    {
     "data": {
      "text/plain": [
       "['https://www.slroutes.com/en-US/job/independent-distributors-business-owner/J3R54660BJWS09BW049',\n",
       " 'https://www.slroutes.com/en-US/job/independent-distributors-business-owner/J3T33G735H5Z2GNG110',\n",
       " 'https://www.slroutes.com/en-US/job/independent-distributors-business-owner/J3W6G86177HP5NPG77K']"
      ]
     },
     "execution_count": 17,
     "metadata": {},
     "output_type": "execute_result"
    }
   ],
   "source": [
    "page_search_result_links = [root_url[:-len(\"/search\")]+i.get(\"href\") for i in page_search_result]\n",
    "page_search_result_links[:3]"
   ]
  },
  {
   "cell_type": "code",
   "execution_count": 18,
   "metadata": {},
   "outputs": [
    {
     "data": {
      "text/plain": [
       "350"
      ]
     },
     "execution_count": 18,
     "metadata": {},
     "output_type": "execute_result"
    }
   ],
   "source": [
    "len(page_search_result_links)"
   ]
  },
  {
   "cell_type": "code",
   "execution_count": 26,
   "metadata": {},
   "outputs": [],
   "source": [
    "# Extracting each field\n",
    "def extract_field(section, label):\n",
    "    \"\"\"Extract the value of a field based on the label.\"\"\"\n",
    "    label_tag = section.find(\"strong\", string=lambda x: x and label in x)\n",
    "    if label_tag:\n",
    "        # Find the next sibling that contains the actual value\n",
    "        value = label_tag.find_next_sibling(string=True)\n",
    "        return value.strip() if value else None\n",
    "    return None\n",
    "list_data = []\n",
    "for page in page_search_result_links:\n",
    "    # print(page)\n",
    "    response2 = requests.get(page)\n",
    "    response2.content\n",
    "    soup2 = BeautifulSoup(response2.content, \"html.parser\")\n",
    "\n",
    "    # Extract location, name, phone number, address, ,weekly avg, and sale price\n",
    "\n",
    "    # Get the job location\n",
    "    try:\n",
    "        job_location = soup2.find_all(\"span\", {\"class\":\"jobLocation\"})[0].text\n",
    "    except:\n",
    "        job_location = None\n",
    "    # Get the email\n",
    "    try:\n",
    "        email = soup2.find_all(\"li\", {\"class\":\"discrete-field-6\"})[0].find_all(\"div\", {\"class\":\"secondary-text-color\"})[0].text\n",
    "    except:\n",
    "        email = None\n",
    "    try:\n",
    "        # Get the job description section\n",
    "        details = soup2.find_all(\"div\", {\"id\":\"jdp-job-description-section\"})[0]\n",
    "        # Extracting the required data\n",
    "        route_description_section = details.find(\"div\", class_=\"jdp-job-description-card content-card\")\n",
    "        # Assign values to variables\n",
    "        type_ = extract_field(route_description_section, \"Type:\")\n",
    "        price = extract_field(route_description_section, \"Price:\")\n",
    "        weekly_avg = extract_field(route_description_section, \"Weekly Avg:\")\n",
    "        contact_name = extract_field(route_description_section, \"Contact Name:\")\n",
    "        contact_phone = extract_field(route_description_section, \"Contact Phone:\")\n",
    "    except:\n",
    "        type = None\n",
    "        price = None\n",
    "        weekly_avg = None\n",
    "        contact_name = None\n",
    "        contact_phone = None\n",
    "\n",
    "    # Printing the results\n",
    "\n",
    "    # print(f\"Location: {job_location}\")\n",
    "    # print(f\"Email: {email}\")\n",
    "    # print(f\"Type: {type_}\")\n",
    "    # print(f\"Price: {price}\")\n",
    "    # print(f\"Weekly Avg: {weekly_avg}\")\n",
    "    # print(f\"Contact Name: {contact_name}\")\n",
    "    # print(f\"Contact Phone: {contact_phone}\")\n",
    "\n",
    "    data_dict = {\"Location\": job_location,\n",
    "                 \"Name\": contact_name,\n",
    "                 \"Phone\": contact_phone, \n",
    "                #  \"Email\": email,\n",
    "                # \"Type\": type_, \n",
    "                \"Sale Price\": price,\n",
    "                \"Weekly Avg\": weekly_avg }\n",
    "    \n",
    "\n",
    "    _ = pd.DataFrame([data_dict])\n",
    "    list_data.append(_)\n",
    "\n",
    "sample = pd.concat(list_data)    \n",
    "sample.to_csv(\"sample.csv\", index=False)"
   ]
  },
  {
   "cell_type": "code",
   "execution_count": null,
   "metadata": {},
   "outputs": [],
   "source": []
  }
 ],
 "metadata": {
  "kernelspec": {
   "display_name": "base",
   "language": "python",
   "name": "python3"
  },
  "language_info": {
   "codemirror_mode": {
    "name": "ipython",
    "version": 3
   },
   "file_extension": ".py",
   "mimetype": "text/x-python",
   "name": "python",
   "nbconvert_exporter": "python",
   "pygments_lexer": "ipython3",
   "version": "3.9.13"
  }
 },
 "nbformat": 4,
 "nbformat_minor": 2
}
